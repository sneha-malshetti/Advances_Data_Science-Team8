{
 "cells": [
  {
   "cell_type": "code",
   "execution_count": 30,
   "metadata": {
    "collapsed": false
   },
   "outputs": [],
   "source": [
    "\n",
    "import boto3\n",
    "from boto.s3.connection import S3Connection\n",
    "import os\n",
    "import json\n",
    "import boto.s3\n",
    "import sys\n",
    "import datetime\n",
    "from boto.s3.key import Key\n",
    "from pprint import pprint\n",
    "import pandas as pd\n",
    "import urllib\n",
    "import csv\n",
    "import io\n",
    "import requests\n",
    "import time\n",
    "import json\n",
    "import datetime\n",
    "from pprint import pprint\n",
    "import scipy\n",
    "import numpy as np\n",
    "import sys, getopt, pprint\n",
    "from pymongo import MongoClient"
   ]
  },
  {
   "cell_type": "code",
   "execution_count": null,
   "metadata": {
    "collapsed": true
   },
   "outputs": [],
   "source": [
    "wrangleddata= pd.read_csv(\"wrangleddata.csv\")\n",
    "        \n",
    "print(wrangleddata.head(5))"
   ]
  },
  {
   "cell_type": "code",
   "execution_count": null,
   "metadata": {
    "collapsed": false
   },
   "outputs": [],
   "source": [
    "\n",
    "#CSV to JSON Conversion\n",
    "csvfile = open('wrangleddata.csv', 'r')\n",
    "reader = csv.DictReader( csvfile )\n",
    "mongo_client=MongoClient() \n",
    "db=mongo_client.zillowDB\n",
    "collection=db.zillowcleaneddata.drop()\n",
    "header= [ \"parcelid\",\"airconditioningtypeid\",\"architecturalstyletypeid\",\"basementsqft\",\n",
    "                 \"bedroomcnt\",\"buildingclasstypeid\",\"decktypeid\",\n",
    "                 \"typeconstructiontypeid\", \"finishedsquarefeet50\", \"calculatedfinishedsquarefeet\",\n",
    "                 \"fips\",\"fireplacecnt\",\"fullbathcnt\",\"garagecarcnt\",\"garagetotalsqft\",\"hashottuborspa\",\n",
    "                 \"heatingorsystemtypeid\",\"latitude\",\"longitude\",\"lotsizesquarefeet\",\"poolcnt\", \"poolsizesum\",\n",
    "                 \"propertycountylandusecode\",\"propertylandusetypeid\", \"unitcnt\",\n",
    "                 \"propertyzoningdesc\",\"rawcensustractandblock\",\"regionidcity\",\"regionidcounty\",\n",
    "                 \"regionidzip\",\"roomcnt\",\"threequarterbathnbr\", \"yardbuildingsqft17\",\"yardbuildingsqft26\",\"yearbuilt\",\n",
    "                 \"numberofstories\",\"structuretaxvaluedollarcnt\",\n",
    "                 \"assessmentyear\",\"landtaxvaluedollarcnt\",\"taxamount\",\"taxdelinquencyyear\", \"transactiondate\",\"logerror\"]\n",
    "\n",
    "for each in reader:\n",
    "    row={}\n",
    "    for field in header:\n",
    "        row[field]=each[field]\n",
    "\n",
    "    db.zillowcleaneddata.insert_one(row)\n",
    "    \n",
    "print(\"success\")"
   ]
  },
  {
   "cell_type": "code",
   "execution_count": null,
   "metadata": {
    "collapsed": true
   },
   "outputs": [],
   "source": [
    "import pprint\n",
    "pprint.pprint(zillowcleaneddata.find_one({'parcelid':'10754147'}))\n",
    "\n",
    "print (\"success\")"
   ]
  },
  {
   "cell_type": "code",
   "execution_count": 10,
   "metadata": {
    "collapsed": false
   },
   "outputs": [
    {
     "name": "stderr",
     "output_type": "stream",
     "text": [
      "C:\\Users\\sneha\\Anaconda3\\lib\\site-packages\\IPython\\core\\interactiveshell.py:2717: DtypeWarning: Columns (22,25,41) have mixed types. Specify dtype option on import or set low_memory=False.\n",
      "  interactivity=interactivity, compiler=compiler, result=result)\n"
     ]
    },
    {
     "data": {
      "text/html": [
       "<div>\n",
       "<table border=\"1\" class=\"dataframe\">\n",
       "  <thead>\n",
       "    <tr style=\"text-align: right;\">\n",
       "      <th></th>\n",
       "      <th>parcelid</th>\n",
       "      <th>airconditioningtypeid</th>\n",
       "      <th>architecturalstyletypeid</th>\n",
       "      <th>basementsqft</th>\n",
       "      <th>bedroomcnt</th>\n",
       "      <th>buildingclasstypeid</th>\n",
       "      <th>decktypeid</th>\n",
       "      <th>typeconstructiontypeid</th>\n",
       "      <th>finishedsquarefeet50</th>\n",
       "      <th>calculatedfinishedsquarefeet</th>\n",
       "      <th>...</th>\n",
       "      <th>yardbuildingsqft26</th>\n",
       "      <th>yearbuilt</th>\n",
       "      <th>numberofstories</th>\n",
       "      <th>structuretaxvaluedollarcnt</th>\n",
       "      <th>assessmentyear</th>\n",
       "      <th>landtaxvaluedollarcnt</th>\n",
       "      <th>taxamount</th>\n",
       "      <th>taxdelinquencyyear</th>\n",
       "      <th>transactiondate</th>\n",
       "      <th>logerror</th>\n",
       "    </tr>\n",
       "  </thead>\n",
       "  <tbody>\n",
       "    <tr>\n",
       "      <th>0</th>\n",
       "      <td>11016594</td>\n",
       "      <td>1</td>\n",
       "      <td>19</td>\n",
       "      <td>0</td>\n",
       "      <td>3</td>\n",
       "      <td>5</td>\n",
       "      <td>False</td>\n",
       "      <td>14</td>\n",
       "      <td>0</td>\n",
       "      <td>1684</td>\n",
       "      <td>...</td>\n",
       "      <td>0</td>\n",
       "      <td>1959</td>\n",
       "      <td>0</td>\n",
       "      <td>122754</td>\n",
       "      <td>2015.0</td>\n",
       "      <td>237416</td>\n",
       "      <td>6735</td>\n",
       "      <td>0</td>\n",
       "      <td>2016-01-01</td>\n",
       "      <td>0.0276</td>\n",
       "    </tr>\n",
       "    <tr>\n",
       "      <th>1</th>\n",
       "      <td>14366692</td>\n",
       "      <td>5</td>\n",
       "      <td>19</td>\n",
       "      <td>0</td>\n",
       "      <td>4</td>\n",
       "      <td>5</td>\n",
       "      <td>False</td>\n",
       "      <td>14</td>\n",
       "      <td>0</td>\n",
       "      <td>2263</td>\n",
       "      <td>...</td>\n",
       "      <td>0</td>\n",
       "      <td>2014</td>\n",
       "      <td>0</td>\n",
       "      <td>346458</td>\n",
       "      <td>2015.0</td>\n",
       "      <td>239071</td>\n",
       "      <td>10153</td>\n",
       "      <td>0</td>\n",
       "      <td>2016-01-01</td>\n",
       "      <td>-0.1684</td>\n",
       "    </tr>\n",
       "    <tr>\n",
       "      <th>2</th>\n",
       "      <td>12098116</td>\n",
       "      <td>1</td>\n",
       "      <td>19</td>\n",
       "      <td>0</td>\n",
       "      <td>2</td>\n",
       "      <td>5</td>\n",
       "      <td>False</td>\n",
       "      <td>14</td>\n",
       "      <td>0</td>\n",
       "      <td>2217</td>\n",
       "      <td>...</td>\n",
       "      <td>0</td>\n",
       "      <td>1940</td>\n",
       "      <td>0</td>\n",
       "      <td>61994</td>\n",
       "      <td>2015.0</td>\n",
       "      <td>57912</td>\n",
       "      <td>11484</td>\n",
       "      <td>0</td>\n",
       "      <td>2016-01-01</td>\n",
       "      <td>-0.0040</td>\n",
       "    </tr>\n",
       "    <tr>\n",
       "      <th>3</th>\n",
       "      <td>12643413</td>\n",
       "      <td>1</td>\n",
       "      <td>19</td>\n",
       "      <td>0</td>\n",
       "      <td>2</td>\n",
       "      <td>5</td>\n",
       "      <td>False</td>\n",
       "      <td>14</td>\n",
       "      <td>0</td>\n",
       "      <td>839</td>\n",
       "      <td>...</td>\n",
       "      <td>0</td>\n",
       "      <td>1987</td>\n",
       "      <td>0</td>\n",
       "      <td>171518</td>\n",
       "      <td>2015.0</td>\n",
       "      <td>73362</td>\n",
       "      <td>3048</td>\n",
       "      <td>0</td>\n",
       "      <td>2016-01-02</td>\n",
       "      <td>0.0218</td>\n",
       "    </tr>\n",
       "    <tr>\n",
       "      <th>4</th>\n",
       "      <td>14432541</td>\n",
       "      <td>5</td>\n",
       "      <td>19</td>\n",
       "      <td>0</td>\n",
       "      <td>4</td>\n",
       "      <td>5</td>\n",
       "      <td>False</td>\n",
       "      <td>14</td>\n",
       "      <td>0</td>\n",
       "      <td>2283</td>\n",
       "      <td>...</td>\n",
       "      <td>0</td>\n",
       "      <td>1981</td>\n",
       "      <td>2</td>\n",
       "      <td>169574</td>\n",
       "      <td>2015.0</td>\n",
       "      <td>264977</td>\n",
       "      <td>5488</td>\n",
       "      <td>0</td>\n",
       "      <td>2016-01-02</td>\n",
       "      <td>-0.0050</td>\n",
       "    </tr>\n",
       "    <tr>\n",
       "      <th>5</th>\n",
       "      <td>11509835</td>\n",
       "      <td>1</td>\n",
       "      <td>19</td>\n",
       "      <td>0</td>\n",
       "      <td>4</td>\n",
       "      <td>5</td>\n",
       "      <td>False</td>\n",
       "      <td>14</td>\n",
       "      <td>0</td>\n",
       "      <td>3067</td>\n",
       "      <td>...</td>\n",
       "      <td>0</td>\n",
       "      <td>1982</td>\n",
       "      <td>0</td>\n",
       "      <td>880650</td>\n",
       "      <td>2015.0</td>\n",
       "      <td>1567301</td>\n",
       "      <td>27126</td>\n",
       "      <td>0</td>\n",
       "      <td>2016-01-02</td>\n",
       "      <td>-0.2705</td>\n",
       "    </tr>\n",
       "    <tr>\n",
       "      <th>6</th>\n",
       "      <td>12286022</td>\n",
       "      <td>5</td>\n",
       "      <td>19</td>\n",
       "      <td>0</td>\n",
       "      <td>2</td>\n",
       "      <td>5</td>\n",
       "      <td>False</td>\n",
       "      <td>14</td>\n",
       "      <td>0</td>\n",
       "      <td>1297</td>\n",
       "      <td>...</td>\n",
       "      <td>0</td>\n",
       "      <td>1939</td>\n",
       "      <td>0</td>\n",
       "      <td>64549</td>\n",
       "      <td>2015.0</td>\n",
       "      <td>46972</td>\n",
       "      <td>2304</td>\n",
       "      <td>0</td>\n",
       "      <td>2016-01-02</td>\n",
       "      <td>0.0440</td>\n",
       "    </tr>\n",
       "  </tbody>\n",
       "</table>\n",
       "<p>7 rows × 43 columns</p>\n",
       "</div>"
      ],
      "text/plain": [
       "   parcelid  airconditioningtypeid  architecturalstyletypeid  basementsqft  \\\n",
       "0  11016594                      1                        19             0   \n",
       "1  14366692                      5                        19             0   \n",
       "2  12098116                      1                        19             0   \n",
       "3  12643413                      1                        19             0   \n",
       "4  14432541                      5                        19             0   \n",
       "5  11509835                      1                        19             0   \n",
       "6  12286022                      5                        19             0   \n",
       "\n",
       "   bedroomcnt  buildingclasstypeid decktypeid  typeconstructiontypeid  \\\n",
       "0           3                    5      False                      14   \n",
       "1           4                    5      False                      14   \n",
       "2           2                    5      False                      14   \n",
       "3           2                    5      False                      14   \n",
       "4           4                    5      False                      14   \n",
       "5           4                    5      False                      14   \n",
       "6           2                    5      False                      14   \n",
       "\n",
       "   finishedsquarefeet50  calculatedfinishedsquarefeet    ...     \\\n",
       "0                     0                          1684    ...      \n",
       "1                     0                          2263    ...      \n",
       "2                     0                          2217    ...      \n",
       "3                     0                           839    ...      \n",
       "4                     0                          2283    ...      \n",
       "5                     0                          3067    ...      \n",
       "6                     0                          1297    ...      \n",
       "\n",
       "   yardbuildingsqft26  yearbuilt  numberofstories  structuretaxvaluedollarcnt  \\\n",
       "0                   0       1959                0                      122754   \n",
       "1                   0       2014                0                      346458   \n",
       "2                   0       1940                0                       61994   \n",
       "3                   0       1987                0                      171518   \n",
       "4                   0       1981                2                      169574   \n",
       "5                   0       1982                0                      880650   \n",
       "6                   0       1939                0                       64549   \n",
       "\n",
       "   assessmentyear landtaxvaluedollarcnt  taxamount  taxdelinquencyyear  \\\n",
       "0          2015.0                237416       6735                   0   \n",
       "1          2015.0                239071      10153                   0   \n",
       "2          2015.0                 57912      11484                   0   \n",
       "3          2015.0                 73362       3048                   0   \n",
       "4          2015.0                264977       5488                   0   \n",
       "5          2015.0               1567301      27126                   0   \n",
       "6          2015.0                 46972       2304                   0   \n",
       "\n",
       "   transactiondate  logerror  \n",
       "0       2016-01-01    0.0276  \n",
       "1       2016-01-01   -0.1684  \n",
       "2       2016-01-01   -0.0040  \n",
       "3       2016-01-02    0.0218  \n",
       "4       2016-01-02   -0.0050  \n",
       "5       2016-01-02   -0.2705  \n",
       "6       2016-01-02    0.0440  \n",
       "\n",
       "[7 rows x 43 columns]"
      ]
     },
     "execution_count": 10,
     "metadata": {},
     "output_type": "execute_result"
    }
   ],
   "source": [
    "csvfile=pd.read_csv(\"wrangleddata.csv\")\n",
    "csvfile=csvfile.head(7)\n",
    "csvfile\n"
   ]
  },
  {
   "cell_type": "code",
   "execution_count": 24,
   "metadata": {
    "collapsed": false
   },
   "outputs": [],
   "source": [
    "rowlength=len(csvfile.index)\n"
   ]
  },
  {
   "cell_type": "code",
   "execution_count": 27,
   "metadata": {
    "collapsed": false
   },
   "outputs": [
    {
     "ename": "TypeError",
     "evalue": "string indices must be integers",
     "output_type": "error",
     "traceback": [
      "\u001b[0;31m---------------------------------------------------------------------------\u001b[0m",
      "\u001b[0;31mTypeError\u001b[0m                                 Traceback (most recent call last)",
      "\u001b[0;32m<ipython-input-27-28bd4375c553>\u001b[0m in \u001b[0;36m<module>\u001b[0;34m()\u001b[0m\n\u001b[1;32m     33\u001b[0m     \u001b[0mrowcount\u001b[0m\u001b[1;33m=\u001b[0m\u001b[0mrowcount\u001b[0m\u001b[1;33m+\u001b[0m\u001b[1;36m1\u001b[0m\u001b[1;33m\u001b[0m\u001b[0m\n\u001b[1;32m     34\u001b[0m     \u001b[1;32mfor\u001b[0m \u001b[0mfield\u001b[0m \u001b[1;32min\u001b[0m \u001b[0mheader\u001b[0m\u001b[1;33m:\u001b[0m\u001b[1;33m\u001b[0m\u001b[0m\n\u001b[0;32m---> 35\u001b[0;31m         \u001b[0mrow\u001b[0m\u001b[1;33m[\u001b[0m\u001b[0mfield\u001b[0m\u001b[1;33m]\u001b[0m\u001b[1;33m=\u001b[0m\u001b[0mrow\u001b[0m \u001b[1;33m+\u001b[0m \u001b[0mrow\u001b[0m\u001b[1;33m[\u001b[0m\u001b[0mfield\u001b[0m\u001b[1;33m]\u001b[0m \u001b[1;33m+\u001b[0m \u001b[1;34m\":\"\u001b[0m \u001b[1;33m+\u001b[0m \u001b[0meach\u001b[0m\u001b[1;33m[\u001b[0m\u001b[0mfield\u001b[0m\u001b[1;33m]\u001b[0m \u001b[1;33m+\u001b[0m \u001b[1;34m\",\"\u001b[0m\u001b[1;33m\u001b[0m\u001b[0m\n\u001b[0m\u001b[1;32m     36\u001b[0m         \u001b[0mprint\u001b[0m\u001b[1;33m(\u001b[0m\u001b[0mrow\u001b[0m\u001b[1;33m[\u001b[0m\u001b[0mfield\u001b[0m\u001b[1;33m]\u001b[0m\u001b[1;33m,\u001b[0m\u001b[1;34m\",\"\u001b[0m\u001b[1;33m,\u001b[0m\u001b[0meach\u001b[0m\u001b[1;33m[\u001b[0m\u001b[0mfield\u001b[0m\u001b[1;33m]\u001b[0m\u001b[1;33m)\u001b[0m\u001b[1;33m\u001b[0m\u001b[0m\n\u001b[1;32m     37\u001b[0m     \u001b[0mrow\u001b[0m\u001b[1;33m=\u001b[0m\u001b[0mrow\u001b[0m \u001b[1;33m+\u001b[0m \u001b[1;34m\"}\"\u001b[0m\u001b[1;33m\u001b[0m\u001b[0m\n",
      "\u001b[0;31mTypeError\u001b[0m: string indices must be integers"
     ]
    }
   ],
   "source": [
    "import sys, getopt, pprint\n",
    "from pymongo import MongoClient\n",
    "\n",
    "header= [ \"parcelid\",\"airconditioningtypeid\",\"architecturalstyletypeid\",\"basementsqft\",\n",
    "                 \"bedroomcnt\",\"buildingclasstypeid\",\"decktypeid\",\n",
    "                 \"typeconstructiontypeid\", \"finishedsquarefeet50\", \"calculatedfinishedsquarefeet\",\n",
    "                 \"fips\",\"fireplacecnt\",\"fullbathcnt\",\"garagecarcnt\",\"garagetotalsqft\",\"hashottuborspa\",\n",
    "                 \"heatingorsystemtypeid\",\"latitude\",\"longitude\",\"lotsizesquarefeet\",\"poolcnt\", \"poolsizesum\",\n",
    "                 \"propertycountylandusecode\",\"propertylandusetypeid\", \"unitcnt\",\n",
    "                 \"propertyzoningdesc\",\"rawcensustractandblock\",\"regionidcity\",\"regionidcounty\",\n",
    "                 \"regionidzip\",\"roomcnt\",\"threequarterbathnbr\", \"yardbuildingsqft17\",\"yardbuildingsqft26\",\"yearbuilt\",\n",
    "                 \"numberofstories\",\"structuretaxvaluedollarcnt\",\n",
    "                 \"assessmentyear\",\"landtaxvaluedollarcnt\",\"taxamount\",\"taxdelinquencyyear\", \"transactiondate\",\"logerror\"]\n",
    "from pymongo import MongoClient\n",
    "client = MongoClient()\n",
    "db = client.pymongo_test\n",
    "\n",
    "\n",
    "\n",
    "# CSV to JSON Conversion\n",
    "# csvfile = open('wrangleddata.csv', 'r')\n",
    "reader = csv.DictReader( csvfile )\n",
    "mongo_client=MongoClient() \n",
    "db=mongo_client.zillowDB\n",
    "collection=db.zillowcleaneddata.drop()\n",
    "\n",
    "\n",
    "\n",
    "rowcount=0\n",
    "for each in reader:\n",
    "    \n",
    "    row=\"{\"\n",
    "    rowcount=rowcount+1\n",
    "    for field in header:\n",
    "        row[field]=row + row[field] + \":\" + each[field] + \",\"\n",
    "        print(row[field],\",\",each[field])\n",
    "    row=row + \"}\"\n",
    "#     if rowcount != rowlength :\n",
    "#         row=row+\", \"\n",
    "    new_result = db.zillowcleaneddata.insert_one(row)\n",
    "    print (\"row\")\n",
    "    print('Multiple posts: {0}'.format(new_result.inserted_ids))\n",
    "print(\"success\")\n",
    "\n",
    "# post_1 = {\n",
    "#     'title': 'Python and MongoDB',\n",
    "#     'content': 'PyMongo is fun, you guys',\n",
    "#     'author': 'Scott'\n",
    "# }\n",
    "\n",
    "\n",
    "# new_result = posts.insert_many([post_1, post_2, post_3])\n",
    "# print('Multiple posts: {0}'.format(new_result.inserted_ids))"
   ]
  },
  {
   "cell_type": "code",
   "execution_count": 17,
   "metadata": {
    "collapsed": false
   },
   "outputs": [
    {
     "name": "stdout",
     "output_type": "stream",
     "text": [
      "<pymongo.cursor.Cursor object at 0x000001F40E8D5780>\n"
     ]
    }
   ],
   "source": [
    "parceltest = db.zillowcleaneddata.find({'parcelid': '11016594'})\n",
    "print(parceltest)"
   ]
  },
  {
   "cell_type": "code",
   "execution_count": 21,
   "metadata": {
    "collapsed": true
   },
   "outputs": [],
   "source": [
    "for post in parceltest:\n",
    "    print(post)"
   ]
  },
  {
   "cell_type": "code",
   "execution_count": 33,
   "metadata": {
    "collapsed": false
   },
   "outputs": [],
   "source": [
    "from pymongo import MongoClient\n",
    "client = MongoClient()\n",
    "\n",
    "db = client.zillowtestdb"
   ]
  },
  {
   "cell_type": "code",
   "execution_count": 34,
   "metadata": {
    "collapsed": false
   },
   "outputs": [
    {
     "data": {
      "text/plain": [
       "Database(MongoClient(host=['localhost:27017'], document_class=dict, tz_aware=False, connect=True), 'zillowtestdb')"
      ]
     },
     "execution_count": 34,
     "metadata": {},
     "output_type": "execute_result"
    }
   ],
   "source": [
    "db\n"
   ]
  },
  {
   "cell_type": "code",
   "execution_count": 39,
   "metadata": {
    "collapsed": false
   },
   "outputs": [
    {
     "name": "stdout",
     "output_type": "stream",
     "text": [
      "<pymongo.cursor.Cursor object at 0x000001F4130AFEF0>\n"
     ]
    }
   ],
   "source": [
    "records = db.zillowdata.find().limit(5)\n",
    "print(records)"
   ]
  },
  {
   "cell_type": "code",
   "execution_count": null,
   "metadata": {
    "collapsed": false
   },
   "outputs": [
    {
     "name": "stdout",
     "output_type": "stream",
   
   
    }
   ],
   "source": [
    "# for doc in db.zillowdata.find():\n",
    "for doc in records:\n",
    "    print(doc)"
   ]
  },
  {
   "cell_type": "code",
   "execution_count": null,
   "metadata": {
    "collapsed": true
   },
   "outputs": [],
   "source": []
  }
 ],
 "metadata": {
  "kernelspec": {
   "display_name": "Python 3",
   "language": "python",
   "name": "python3"
  },
  "language_info": {
   "codemirror_mode": {
    "name": "ipython",
    "version": 3
   },
   "file_extension": ".py",
   "mimetype": "text/x-python",
   "name": "python",
   "nbconvert_exporter": "python",
   "pygments_lexer": "ipython3",
   "version": "3.6.0"
  }
 },
 "nbformat": 4,
 "nbformat_minor": 2
}
